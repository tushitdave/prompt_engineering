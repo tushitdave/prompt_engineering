{
 "cells": [
  {
   "cell_type": "markdown",
   "id": "11d8027d",
   "metadata": {},
   "source": [
    "### What is React prompting"
   ]
  },
  {
   "cell_type": "markdown",
   "id": "caf2f8dc",
   "metadata": {},
   "source": [
    "React Prompting is a technique used with language models like GPT-3 to guide and modify the generated text based on additional instructions or context provided within the prompt itself. It allows users to influence the behavior and content of the model's response by adding specific instructions, constraints, or modifiers to the input text. React Prompting helps make the language model's output more tailored and aligned with the user's intentions.\n",
    "\n",
    "When using React Prompting, you start with an initial prompt that sets the context for the generated text. The prompt typically contains a question or a statement that instructs the language model to perform a specific task or provide certain information. The model then generates a response based on this prompt.\n",
    "\n",
    "However, in React Prompting, you add a second part called the \"react_text\" to the prompt. This react_text includes additional instructions or modifiers that react to the generated text. The react_text can be used to adjust or guide the model's output by providing new constraints, context, or emotional tone."
   ]
  },
  {
   "attachments": {
    "image.png": {
     "image/png": "[encoded data removed]"
    }
   },
   "cell_type": "markdown",
   "id": "4b6784f5",
   "metadata": {},
   "source": [
    "![image.png](attachment:image.png)"
   ]
  },
  {
   "cell_type": "code",
   "execution_count": 11,
   "id": "2b38cfb2",
   "metadata": {},
   "outputs": [],
   "source": [
    "# !pip install openai\n",
    "# !pip install transformers\n"
   ]
  },
  {
   "cell_type": "code",
   "execution_count": 6,
   "id": "bb52e709",
   "metadata": {},
   "outputs": [],
   "source": [
    "# [Initial Prompt] [React Text]"
   ]
  },
  {
   "cell_type": "code",
   "execution_count": null,
   "id": "ce396d3a",
   "metadata": {},
   "outputs": [],
   "source": [
    "import openai\n",
    "from transformers import GPT2Tokenizer"
   ]
  },
  {
   "cell_type": "code",
   "execution_count": 14,
   "id": "10fadae8",
   "metadata": {},
   "outputs": [],
   "source": [
    "import warnings\n",
    "warnings.filterwarnings('ignore')"
   ]
  },
  {
   "cell_type": "code",
   "execution_count": 3,
   "id": "70ee291f",
   "metadata": {},
   "outputs": [],
   "source": [
    "import json\n",
    "with open(r'D:\\Data Science\\OpenAI_key management\\key.json') as config_file:\n",
    "    config = json.load(config_file)\n",
    "    api_key = config['api_key']"
   ]
  },
  {
   "cell_type": "code",
   "execution_count": 15,
   "id": "03f8c3cb",
   "metadata": {},
   "outputs": [
    {
     "name": "stdout",
     "output_type": "stream",
     "text": [
      "Generated Text:\n",
      "This cute little puppy is a bundle of joy, but my heart aches when I look at him. He has the most beautiful golden fur that glistens in the sunlight, and his big, brown eyes are full of life and love. He's always ready to play and loves to cuddle up against you for a nap. He brings a smile to my face, but it's hard to not feel a bit of sadness when I think of all the potential he has, and that\n",
      "Number of Tokens:98\n",
      "Cost in USD: 0.00019600000000000002\n",
      "Cost in INR: 0.01622488\n"
     ]
    }
   ],
   "source": [
    "openai.api_key = api_key\n",
    "\n",
    "# Initialize the GPT2 tokenizer\n",
    "tokenizer = GPT2Tokenizer.from_pretrained(\"gpt2\")\n",
    "\n",
    "def react_prompting_demo(prompt, react_text):\n",
    "    input_text = f\"{prompt} {react_text}\"\n",
    "\n",
    "    # Request the completion from the OpenAI GPT-3.5 model\n",
    "    response = openai.Completion.create(\n",
    "        engine=\"text-davinci-003\",\n",
    "        prompt=input_text,\n",
    "        temperature=0.7,\n",
    "        max_tokens=100,\n",
    "        n=1,\n",
    "        stop=None,\n",
    "    )\n",
    "\n",
    "    # Extract the generated text from the API response\n",
    "    generated_text = response['choices'][0]['text']\n",
    "\n",
    "    # Return the generated text\n",
    "    return generated_text.strip()\n",
    "\n",
    "if __name__ == \"__main__\":\n",
    "    prompt = \"You are a helpful assistant. Provide a description of a cute puppy.\"     # Sample Prompt\n",
    "    react_text = \"However, you are in a sad mood.\" # react_text that modifies the generated text\n",
    "\n",
    "    # Generate text using React Prompting\n",
    "    generated_text = react_prompting_demo(prompt, react_text)\n",
    "    n_tokens = len(tokenizer.encode(generated_text)) # Number of tokens in prompt\n",
    "    cost_usd = (n_tokens * 0.002) / 1000 # Cost in USD\n",
    "    exchange_rate_usd_to_inr = 82.78 # Exchange Rate USD to INR\n",
    "    cost_inr = cost_usd * exchange_rate_usd_to_inr #Converting USD to INR\n",
    "    \n",
    "    # Display the generated text and number of tokens\n",
    "    print(\"Generated Text:\")\n",
    "    print(generated_text)\n",
    "    print(\"Number of Tokens:{}\".format(n_tokens))\n",
    "    print(\"Cost in USD: {}\".format(cost_usd))\n",
    "    print(\"Cost in INR:\", cost_inr)"
   ]
  },
  {
   "cell_type": "code",
   "execution_count": null,
   "id": "35ec1b3e",
   "metadata": {},
   "outputs": [],
   "source": []
  }
 ],
 "metadata": {
  "kernelspec": {
   "display_name": "Python 3 (ipykernel)",
   "language": "python",
   "name": "python3"
  },
  "language_info": {
   "codemirror_mode": {
    "name": "ipython",
    "version": 3
   },
   "file_extension": ".py",
   "mimetype": "text/x-python",
   "name": "python",
   "nbconvert_exporter": "python",
   "pygments_lexer": "ipython3",
   "version": "3.9.12"
  }
 },
 "nbformat": 4,
 "nbformat_minor": 5
}
