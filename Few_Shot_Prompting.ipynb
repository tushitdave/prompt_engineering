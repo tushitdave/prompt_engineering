{
 "cells": [
  {
   "cell_type": "markdown",
   "id": "5235ff6a",
   "metadata": {},
   "source": [
    "<div style=\"text-align: center\"> <h1>Few- Shot Prompting</h1></div>"
   ]
  },
  {
   "cell_type": "markdown",
   "id": "8862d60d",
   "metadata": {},
   "source": [
    "`Few-shot prompting` is a technique used in natural language processing (NLP) to instruct a language model to perform a specific task using just a few examples or prompts. It enables the model to generalize from the provided examples and apply the learned knowledge to new, similar tasks. This approach is particularly useful when you want the model to perform a task for which it has not been explicitly trained."
   ]
  },
  {
   "cell_type": "markdown",
   "id": "544661c5",
   "metadata": {},
   "source": [
    "Steps:\n",
    "\n",
    "***Prompt***: The initial text that instructs the model about the task it needs to perform. It provides context and guidance to the model.\n",
    "\n",
    "***Examples***(If the davinci-codex): A set of example input-output pairs that demonstrate the desired behavior. These examples help the model understand the task and learn how to generate appropriate outputs.\n",
    "\n",
    "***Model Processing***: When given a prompt and examples, the model is fine-tuned to generate outputs that align with the provided examples. The model learns patterns, relationships, and concepts from the examples.\n",
    "\n",
    "***Generalization***: After processing the prompt and examples, the model can generalize its understanding of the task and apply it to new, similar inputs. This means the model can perform tasks it hasn't seen before as long as they resemble the examples it was given.\n",
    "\n",
    "***Response Generation***: When presented with a new prompt that aligns with the task, the model generates an output based on its learned understanding from the examples. The generated output is the model's prediction or completion for the given prompt."
   ]
  },
  {
   "cell_type": "code",
   "execution_count": 3,
   "id": "3d575e94",
   "metadata": {},
   "outputs": [],
   "source": [
    "import json\n",
    "with open(r'D:\\Data Science\\OpenAI_key management\\key.json') as config_file:\n",
    "    config = json.load(config_file)\n",
    "    api_key = config['api_key']\n",
    "\n",
    "import openai\n",
    "openai.api_key = api_key"
   ]
  },
  {
   "cell_type": "markdown",
   "id": "e6a29c57",
   "metadata": {},
   "source": [
    "### Multi-Lingual Few Shot prompting"
   ]
  },
  {
   "cell_type": "code",
   "execution_count": 9,
   "id": "9a14a094",
   "metadata": {},
   "outputs": [
    {
     "name": "stdout",
     "output_type": "stream",
     "text": [
      "Generated Translation: 'Bonjour, comment allez-vous?'\n",
      "Note: bonjour means hello and comment (conjunction) + allez (verb allez-vous = how are you) + verb être (to be) means\n"
     ]
    }
   ],
   "source": [
    "prompt = \"Translate the following English text to French:\\n\" \\\n",
    "         \"Text: 'Hello, how are you?'\\n\" \\\n",
    "         \"Translation:\"\n",
    "\n",
    "response = openai.Completion.create(\n",
    "    engine=\"davinci\",  # davinci Engine for Language Translation\n",
    "    prompt=prompt,\n",
    "    max_tokens=50  \n",
    ")\n",
    "\n",
    "translation = response.choices[0].text.strip()\n",
    "print(\"Generated Translation:\", translation)\n"
   ]
  },
  {
   "cell_type": "markdown",
   "id": "11d5d38d",
   "metadata": {},
   "source": [
    "### Text Summarization- Few Shot Prompting"
   ]
  },
  {
   "cell_type": "code",
   "execution_count": 12,
   "id": "2e21429c",
   "metadata": {},
   "outputs": [
    {
     "name": "stdout",
     "output_type": "stream",
     "text": [
      "Generated Summary: \"In 1969, humans first landed on the moon during the Apollo 11 mission. Neil Armstrong and Buzz Aldrin became the first astronauts to set foot on the lunar surface. There was a third astronaut, Michael Collins, who orbited the moon. Here\n"
     ]
    }
   ],
   "source": [
    "prompt = \"Summarize the following text:\\n\" \\\n",
    "         \"Text: 'In 1969, humans first landed on the moon during the Apollo 11 mission. Neil Armstrong and Buzz Aldrin became the first astronauts to set foot on the lunar surface.'\\n\" \\\n",
    "         \"Summary:\"\n",
    "\n",
    "response = openai.Completion.create(\n",
    "    engine=\"davinci\",  \n",
    "    prompt=prompt,\n",
    "    max_tokens=50 \n",
    ")\n",
    "\n",
    "summary = response.choices[0].text.strip()\n",
    "print(\"Generated Summary:\", summary)\n"
   ]
  },
  {
   "cell_type": "markdown",
   "id": "c01a5f67",
   "metadata": {},
   "source": [
    "### Question-Answering - Few Shot Prompting"
   ]
  },
  {
   "cell_type": "code",
   "execution_count": 14,
   "id": "95680d64",
   "metadata": {},
   "outputs": [
    {
     "name": "stdout",
     "output_type": "stream",
     "text": [
      "Generated Answer: William Shakespeare\n",
      "The child must answer one or both of the questions again later in the exam. The model, Vyakarana, reserves 50\n"
     ]
    }
   ],
   "source": [
    "prompt = \"Answer the following question:\\n\" \\\n",
    "         \"Question: 'Who wrote the play 'Romeo and Juliet'?'\\n\" \\\n",
    "         \"Answer:\"\n",
    "\n",
    "response = openai.Completion.create(\n",
    "    engine=\"davinci\",\n",
    "    prompt=prompt,\n",
    "    max_tokens=30\n",
    ")\n",
    "\n",
    "answer = response.choices[0].text.strip()\n",
    "print(\"Generated Answer:\", answer)\n"
   ]
  },
  {
   "cell_type": "markdown",
   "id": "ad2106af",
   "metadata": {},
   "source": [
    "### Code Generation - Few Shot Prompting"
   ]
  },
  {
   "cell_type": "code",
   "execution_count": 15,
   "id": "6d987b40",
   "metadata": {},
   "outputs": [
    {
     "name": "stdout",
     "output_type": "stream",
     "text": [
      "Generated Function: def getFact ( num ): \"\"\" Returns the factorial of the given integer \"\"\" if not ( 0 <= num ): return 0 if ( num <= 1 ): return 1 return num * getFact ( num - 1 ) print ( getFact ( 200 )) print ( getFact ( 2320 ))\n",
      "Run:\n",
      "> python3 getFact.py 933262154439441526816992388562667004907159682643816214685929638952\n"
     ]
    }
   ],
   "source": [
    "prompt = \"Write a Python function to calculate the factorial of a given number.\\n\" \\\n",
    "         \"Function:\"\n",
    "\n",
    "response = openai.Completion.create(\n",
    "    engine=\"davinci\",\n",
    "    prompt=prompt,\n",
    "    max_tokens=100\n",
    ")\n",
    "\n",
    "function_code = response.choices[0].text.strip()\n",
    "print(\"Generated Function:\", function_code)\n"
   ]
  },
  {
   "cell_type": "code",
   "execution_count": null,
   "id": "161cf00a",
   "metadata": {},
   "outputs": [],
   "source": []
  }
 ],
 "metadata": {
  "kernelspec": {
   "display_name": "Python 3 (ipykernel)",
   "language": "python",
   "name": "python3"
  },
  "language_info": {
   "codemirror_mode": {
    "name": "ipython",
    "version": 3
   },
   "file_extension": ".py",
   "mimetype": "text/x-python",
   "name": "python",
   "nbconvert_exporter": "python",
   "pygments_lexer": "ipython3",
   "version": "3.9.12"
  }
 },
 "nbformat": 4,
 "nbformat_minor": 5
}
